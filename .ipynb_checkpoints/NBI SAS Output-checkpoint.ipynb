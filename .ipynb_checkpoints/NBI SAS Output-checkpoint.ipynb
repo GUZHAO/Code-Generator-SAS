{
 "cells": [
  {
   "cell_type": "markdown",
   "metadata": {},
   "source": [
    "###### The current process is to copy the sas data set to jupyter folder to process, \n",
    "\n",
    "* to prevent from using the file while the file is being written\n",
    "* need to process to copy the file directly from project folder to juypter folder"
   ]
  },
  {
   "cell_type": "code",
   "execution_count": 14,
   "metadata": {},
   "outputs": [],
   "source": [
    "# import libraries\n",
    "import numpy as np\n",
    "import pandas as pd\n",
    "pd.set_option('display.max_columns', 100)\n",
    "import datetime"
   ]
  },
  {
   "cell_type": "code",
   "execution_count": 2,
   "metadata": {},
   "outputs": [],
   "source": [
    "df = pd.read_sas('patpop_ps.sas7bdat')"
   ]
  },
  {
   "cell_type": "code",
   "execution_count": 8,
   "metadata": {},
   "outputs": [
    {
     "data": {
      "text/plain": [
       "patientid                               float64\n",
       "sex                                     float64\n",
       "age                                     float64\n",
       "index_dt                         datetime64[ns]\n",
       "cohort                                  float64\n",
       "Obesity_dx                              float64\n",
       "Overweight                              float64\n",
       "Smoking                                 float64\n",
       "Alcohol_abuse                           float64\n",
       "Drug_abuse                              float64\n",
       "Obesity_rx                              float64\n",
       "BMI                                     float64\n",
       "Obesity                                 float64\n",
       "Diabetic_retinopathy                    float64\n",
       "Diabetes_WOOM                           float64\n",
       "RD_VH_vitrectomy                        float64\n",
       "Diabetic_neuropathy                     float64\n",
       "Diabetic_nephropathy                    float64\n",
       "Hypoglycemia_p1                         float64\n",
       "Hyperglycemia                           float64\n",
       "Disorders_FE_ADD                        float64\n",
       "Diabetic_ketoacidosis                   float64\n",
       "HONK                                    float64\n",
       "Diabetes_PCD                            float64\n",
       "Diabetic_foot                           float64\n",
       "Gangrene                                float64\n",
       "Lower_extremity_amputation_dx           float64\n",
       "Osteomyelitis                           float64\n",
       "Skin_infections                         float64\n",
       "Erectile_dysfunction                    float64\n",
       "                                      ...      \n",
       "ip_visit_num                            float64\n",
       "ip_cost                                 float64\n",
       "ip_CV_cost                              float64\n",
       "ip_no_CV_cost                           float64\n",
       "hosp_days                               float64\n",
       "Cardiologist_flag                       float64\n",
       "IM_FM_flag                              float64\n",
       "Electrocardio_flag                      float64\n",
       "Endocrino_flag                          float64\n",
       "ER_flag                                 float64\n",
       "Cardiologist_num                        float64\n",
       "IM_FM_num                               float64\n",
       "Electrocardio_num                       float64\n",
       "Endocrino_num                           float64\n",
       "ER_num                                  float64\n",
       "op_num                                  float64\n",
       "op_cost                                 float64\n",
       "op_CV_cost                              float64\n",
       "op_non_CV_cost                          float64\n",
       "rx_cost                                 float64\n",
       "rx_dm_cost                              float64\n",
       "rx_non_dm_cost                          float64\n",
       "index_year                              float64\n",
       "PAST_other_dm_flag                      float64\n",
       "total_pre_cost                          float64\n",
       "drug_cohort                              object\n",
       "pt_case                                 float64\n",
       "_LEVEL_                                 float64\n",
       "pscore                                  float64\n",
       "pair_id                                 float64\n",
       "Length: 199, dtype: object"
      ]
     },
     "execution_count": 8,
     "metadata": {},
     "output_type": "execute_result"
    }
   ],
   "source": [
    "df.dtypes"
   ]
  },
  {
   "cell_type": "code",
   "execution_count": 27,
   "metadata": {},
   "outputs": [],
   "source": [
    "# create age group\n",
    "def age_group(age):\n",
    "    if age >= 18 and age <= 54:\n",
    "        return '18-54'\n",
    "    elif age >= 55 and age <= 64:\n",
    "        return '55-64'\n",
    "    elif age >= 65 and age <= 74:\n",
    "        return '65-74'\n",
    "    else:\n",
    "        return '75+'\n",
    "\n",
    "def cohort(x):\n",
    "    if x == 1:\n",
    "        return 'empa'\n",
    "    if x == 2:\n",
    "        return 'DPP4'\n",
    "\n",
    "df['age_group'] = df['age'].apply(lambda x: age_group(x))\n",
    "df['cohort_name'] = df['cohort'].apply(lambda x: cohort(x))"
   ]
  },
  {
   "cell_type": "code",
   "execution_count": 28,
   "metadata": {},
   "outputs": [
    {
     "data": {
      "text/html": [
       "<div>\n",
       "<style scoped>\n",
       "    .dataframe tbody tr th:only-of-type {\n",
       "        vertical-align: middle;\n",
       "    }\n",
       "\n",
       "    .dataframe tbody tr th {\n",
       "        vertical-align: top;\n",
       "    }\n",
       "\n",
       "    .dataframe thead th {\n",
       "        text-align: right;\n",
       "    }\n",
       "</style>\n",
       "<table border=\"1\" class=\"dataframe\">\n",
       "  <thead>\n",
       "    <tr style=\"text-align: right;\">\n",
       "      <th>cohort_name</th>\n",
       "      <th>DPP4</th>\n",
       "      <th>empa</th>\n",
       "    </tr>\n",
       "    <tr>\n",
       "      <th>age_group</th>\n",
       "      <th></th>\n",
       "      <th></th>\n",
       "    </tr>\n",
       "  </thead>\n",
       "  <tbody>\n",
       "    <tr>\n",
       "      <th>18-54</th>\n",
       "      <td>2113</td>\n",
       "      <td>2085</td>\n",
       "    </tr>\n",
       "    <tr>\n",
       "      <th>55-64</th>\n",
       "      <td>1259</td>\n",
       "      <td>1342</td>\n",
       "    </tr>\n",
       "    <tr>\n",
       "      <th>65-74</th>\n",
       "      <td>1493</td>\n",
       "      <td>1460</td>\n",
       "    </tr>\n",
       "    <tr>\n",
       "      <th>75+</th>\n",
       "      <td>774</td>\n",
       "      <td>752</td>\n",
       "    </tr>\n",
       "  </tbody>\n",
       "</table>\n",
       "</div>"
      ],
      "text/plain": [
       "cohort_name  DPP4  empa\n",
       "age_group              \n",
       "18-54        2113  2085\n",
       "55-64        1259  1342\n",
       "65-74        1493  1460\n",
       "75+           774   752"
      ]
     },
     "execution_count": 28,
     "metadata": {},
     "output_type": "execute_result"
    }
   ],
   "source": [
    "# create contigency tables\n",
    "age_tab = pd.crosstab(index=df['age_group'], columns=df['cohort_name'])\n",
    "age_tab"
   ]
  },
  {
   "cell_type": "code",
   "execution_count": 92,
   "metadata": {},
   "outputs": [
    {
     "data": {
      "text/html": [
       "<div>\n",
       "<style scoped>\n",
       "    .dataframe tbody tr th:only-of-type {\n",
       "        vertical-align: middle;\n",
       "    }\n",
       "\n",
       "    .dataframe tbody tr th {\n",
       "        vertical-align: top;\n",
       "    }\n",
       "\n",
       "    .dataframe thead th {\n",
       "        text-align: right;\n",
       "    }\n",
       "</style>\n",
       "<table border=\"1\" class=\"dataframe\">\n",
       "  <thead>\n",
       "    <tr style=\"text-align: right;\">\n",
       "      <th>cohort</th>\n",
       "      <th>1.0</th>\n",
       "      <th>2.0</th>\n",
       "    </tr>\n",
       "  </thead>\n",
       "  <tbody>\n",
       "    <tr>\n",
       "      <th>mean</th>\n",
       "      <td>59.17</td>\n",
       "      <td>59.12</td>\n",
       "    </tr>\n",
       "    <tr>\n",
       "      <th>std</th>\n",
       "      <td>13.83</td>\n",
       "      <td>14.12</td>\n",
       "    </tr>\n",
       "    <tr>\n",
       "      <th>median</th>\n",
       "      <td>60</td>\n",
       "      <td>60</td>\n",
       "    </tr>\n",
       "    <tr>\n",
       "      <th>Q1_Q3</th>\n",
       "      <td>49.0, 69.0</td>\n",
       "      <td>49.0, 69.0</td>\n",
       "    </tr>\n",
       "    <tr>\n",
       "      <th>min_max</th>\n",
       "      <td>18, 90</td>\n",
       "      <td>18, 90</td>\n",
       "    </tr>\n",
       "  </tbody>\n",
       "</table>\n",
       "</div>"
      ],
      "text/plain": [
       "cohort          1.0         2.0\n",
       "mean          59.17       59.12\n",
       "std           13.83       14.12\n",
       "median           60          60\n",
       "Q1_Q3    49.0, 69.0  49.0, 69.0\n",
       "min_max      18, 90      18, 90"
      ]
     },
     "execution_count": 92,
     "metadata": {},
     "output_type": "execute_result"
    }
   ],
   "source": [
    "df['age'] = df.age.astype(int)\n",
    "age_mea = df.groupby(['cohort']).age.mean().round(2).to_frame().rename(columns={'age':'mean'}).transpose()\n",
    "age_s = df.groupby(['cohort']).age.std().round(2).to_frame().rename(columns={'age':'std'}).transpose()\n",
    "age_med = df.groupby(['cohort']).age.median().round(2).to_frame().rename(columns={'age':'median'}).transpose()\n",
    "age_q25 = df.groupby(['cohort']).age.quantile(q=0.25).round(2).to_frame()\n",
    "age_q75 = df.groupby(['cohort']).age.quantile(q=0.75).round(2).to_frame()\n",
    "age_min = df.groupby(['cohort']).age.min().round(2).to_frame()\n",
    "age_max = df.groupby(['cohort']).age.max().round(2).to_frame()\n",
    "\n",
    "age_q = age_q25.rename(columns={'age':'Q1'}).join(age_q75.rename(columns={'age': 'Q3'}))\n",
    "age_q['Q1_Q3'] = age_q['Q1'].map(str) + ', ' + age_q['Q3'].map(str)\n",
    "age_q = age_q.drop(['Q1', 'Q3'], axis=1).transpose()\n",
    "\n",
    "age_m = age_min.rename(columns={'age':'min'}).join(age_max.rename(columns={'age': 'max'}))\n",
    "age_m['min_max'] = age_m['min'].map(str) + ', ' + age_m['max'].map(str)\n",
    "age_m = age_m.drop(['min', 'max'], axis=1).transpose()\n",
    "\n",
    "\n",
    "age_df = pd.concat([age_mea, age_s, age_med, age_q, age_m])\n",
    "age_df"
   ]
  },
  {
   "cell_type": "code",
   "execution_count": null,
   "metadata": {},
   "outputs": [],
   "source": []
  }
 ],
 "metadata": {
  "kernelspec": {
   "display_name": "Python 3",
   "language": "python",
   "name": "python3"
  },
  "language_info": {
   "codemirror_mode": {
    "name": "ipython",
    "version": 3
   },
   "file_extension": ".py",
   "mimetype": "text/x-python",
   "name": "python",
   "nbconvert_exporter": "python",
   "pygments_lexer": "ipython3",
   "version": "3.7.3"
  }
 },
 "nbformat": 4,
 "nbformat_minor": 2
}
