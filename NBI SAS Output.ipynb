{
 "cells": [
  {
   "cell_type": "markdown",
   "metadata": {},
   "source": [
    "###### The current process is to copy the sas data set to jupyter folder to process, \n",
    "\n",
    "* to prevent from using the file while the file is being written\n",
    "* need to process to copy the file directly from project folder to juypter folder"
   ]
  },
  {
   "cell_type": "code",
   "execution_count": 14,
   "metadata": {},
   "outputs": [],
   "source": [
    "# import libraries\n",
    "import numpy as np\n",
    "import pandas as pd\n",
    "pd.set_option('display.max_columns', 100)\n",
    "import datetime"
   ]
  },
  {
   "cell_type": "code",
   "execution_count": 2,
   "metadata": {},
   "outputs": [],
   "source": [
    "df = pd.read_sas('patpop_ps.sas7bdat')"
   ]
  },
  {
   "cell_type": "code",
   "execution_count": 8,
   "metadata": {},
   "outputs": [
    {
     "data": {
      "text/plain": [
       "patientid                               float64\n",
       "sex                                     float64\n",
       "age                                     float64\n",
       "index_dt                         datetime64[ns]\n",
       "cohort                                  float64\n",
       "Obesity_dx                              float64\n",
       "Overweight                              float64\n",
       "Smoking                                 float64\n",
       "Alcohol_abuse                           float64\n",
       "Drug_abuse                              float64\n",
       "Obesity_rx                              float64\n",
       "BMI                                     float64\n",
       "Obesity                                 float64\n",
       "Diabetic_retinopathy                    float64\n",
       "Diabetes_WOOM                           float64\n",
       "RD_VH_vitrectomy                        float64\n",
       "Diabetic_neuropathy                     float64\n",
       "Diabetic_nephropathy                    float64\n",
       "Hypoglycemia_p1                         float64\n",
       "Hyperglycemia                           float64\n",
       "Disorders_FE_ADD                        float64\n",
       "Diabetic_ketoacidosis                   float64\n",
       "HONK                                    float64\n",
       "Diabetes_PCD                            float64\n",
       "Diabetic_foot                           float64\n",
       "Gangrene                                float64\n",
       "Lower_extremity_amputation_dx           float64\n",
       "Osteomyelitis                           float64\n",
       "Skin_infections                         float64\n",
       "Erectile_dysfunction                    float64\n",
       "                                      ...      \n",
       "ip_visit_num                            float64\n",
       "ip_cost                                 float64\n",
       "ip_CV_cost                              float64\n",
       "ip_no_CV_cost                           float64\n",
       "hosp_days                               float64\n",
       "Cardiologist_flag                       float64\n",
       "IM_FM_flag                              float64\n",
       "Electrocardio_flag                      float64\n",
       "Endocrino_flag                          float64\n",
       "ER_flag                                 float64\n",
       "Cardiologist_num                        float64\n",
       "IM_FM_num                               float64\n",
       "Electrocardio_num                       float64\n",
       "Endocrino_num                           float64\n",
       "ER_num                                  float64\n",
       "op_num                                  float64\n",
       "op_cost                                 float64\n",
       "op_CV_cost                              float64\n",
       "op_non_CV_cost                          float64\n",
       "rx_cost                                 float64\n",
       "rx_dm_cost                              float64\n",
       "rx_non_dm_cost                          float64\n",
       "index_year                              float64\n",
       "PAST_other_dm_flag                      float64\n",
       "total_pre_cost                          float64\n",
       "drug_cohort                              object\n",
       "pt_case                                 float64\n",
       "_LEVEL_                                 float64\n",
       "pscore                                  float64\n",
       "pair_id                                 float64\n",
       "Length: 199, dtype: object"
      ]
     },
     "execution_count": 8,
     "metadata": {},
     "output_type": "execute_result"
    }
   ],
   "source": [
    "df.dtypes"
   ]
  },
  {
   "cell_type": "code",
   "execution_count": 172,
   "metadata": {},
   "outputs": [],
   "source": [
    "# create age group\n",
    "def age_group(age):\n",
    "    if age >= 18 and age <= 54:\n",
    "        return '18-54'\n",
    "    elif age >= 55 and age <= 64:\n",
    "        return '55-64'\n",
    "    elif age >= 65 and age <= 74:\n",
    "        return '65-74'\n",
    "    else:\n",
    "        return '75+'\n",
    "\n",
    "def sex(x):\n",
    "    if x == 1:\n",
    "        return 'male'\n",
    "    if x == 2:\n",
    "        return 'female'"
   ]
  },
  {
   "cell_type": "code",
   "execution_count": 173,
   "metadata": {},
   "outputs": [],
   "source": [
    "df['age_group'] = df['age'].apply(lambda x: age_group(x))\n",
    "df['sex_name'] = df['sex'].apply(lambda x: sex(x))"
   ]
  },
  {
   "cell_type": "code",
   "execution_count": 171,
   "metadata": {},
   "outputs": [],
   "source": [
    "# create contigency tables\n",
    "def cross(ind, col):\n",
    "    return pd.crosstab(index=ind, columns=df[col])"
   ]
  },
  {
   "cell_type": "code",
   "execution_count": 174,
   "metadata": {},
   "outputs": [],
   "source": [
    "cohort_tab = cross('number of patients', 'cohort')\n",
    "age_tab = cross(df['age_group'], 'cohort')\n",
    "sex_tab = cross(df['sex_name'], 'cohort')"
   ]
  },
  {
   "cell_type": "code",
   "execution_count": 182,
   "metadata": {},
   "outputs": [],
   "source": [
    "def numeric_tab(var, name):\n",
    "    df.var = df.var.astype(int)\n",
    "    _mea = df.groupby(['cohort']).var.mean().round(2).to_frame().rename(columns={name: name+'_mean'}).transpose()\n",
    "    _s = df.groupby(['cohort']).var.std().round(2).to_frame().rename(columns={name: name+'_std'}).transpose()\n",
    "    _med = df.groupby(['cohort']).var.median().round(2).to_frame().rename(columns={name: name+'_median'}).transpose()\n",
    "    _q25 = df.groupby(['cohort']).var.quantile(0.25).round(2).to_frame()\n",
    "    _q75 = df.groupby(['cohort']).var.quantile(0.75).round(2).to_frame()\n",
    "    _min = df.groupby(['cohort']).var.min().round(2).to_frame()\n",
    "    _max = df.groupby(['cohort']).var.max().round(2).to_frame()\n",
    "\n",
    "    _q = _q25.rename(columns={name: name+'_Q1'}).join(_q75.rename(columns={name: name+'_Q3'}))\n",
    "    _q[name+'_Q1_Q3'] = _q[name+'_Q1'].map(str) + '; ' + _q[name+'_Q3'].map(str)\n",
    "    _q = _q.drop([name+'_Q1',  name+'_Q3'], axis=1).transpose()\n",
    "\n",
    "    _m = _min.rename(columns={name: name+'_min'}).join(_max.rename(columns={name: name+'_max'}))\n",
    "    _m[name+'_min_max'] = _m[name+'_min'].map(str) + '; ' + _m[name+'_max'].map(str)\n",
    "    _m = _m.drop([name+'_min', name+'_max'], axis=1).transpose()\n",
    "\n",
    "    _std_data = {'std': np.absolute(_mea.iloc[0,0] - _mea.iloc[0,1])/np.sqrt((np.square(_s.iloc[0,0]) + np.square(_s.iloc[0,1]))/2)}\n",
    "    _std = pd.DataFrame(_std_data, index=[name+'_mean'])\n",
    "\n",
    "    _df = pd.concat([_mea, _s, _med, _q, _m])\n",
    "    return _df.join(_std.round(3)).fillna('NA')"
   ]
  },
  {
   "cell_type": "code",
   "execution_count": 183,
   "metadata": {},
   "outputs": [
    {
     "ename": "NameError",
     "evalue": "name 'age' is not defined",
     "output_type": "error",
     "traceback": [
      "\u001b[1;31m---------------------------------------------------------------------------\u001b[0m",
      "\u001b[1;31mNameError\u001b[0m                                 Traceback (most recent call last)",
      "\u001b[1;32m<ipython-input-183-c72f04ddea32>\u001b[0m in \u001b[0;36m<module>\u001b[1;34m\u001b[0m\n\u001b[1;32m----> 1\u001b[1;33m \u001b[0mage_all\u001b[0m \u001b[1;33m=\u001b[0m \u001b[0mnumeric_tab\u001b[0m\u001b[1;33m(\u001b[0m\u001b[0mage\u001b[0m\u001b[1;33m,\u001b[0m \u001b[1;34m'age'\u001b[0m\u001b[1;33m)\u001b[0m\u001b[1;33m\u001b[0m\u001b[1;33m\u001b[0m\u001b[0m\n\u001b[0m\u001b[0;32m      2\u001b[0m \u001b[0mage_all\u001b[0m\u001b[1;33m\u001b[0m\u001b[1;33m\u001b[0m\u001b[0m\n",
      "\u001b[1;31mNameError\u001b[0m: name 'age' is not defined"
     ]
    }
   ],
   "source": [
    "age_all = numeric_tab(age, 'age')\n",
    "age_all"
   ]
  },
  {
   "cell_type": "code",
   "execution_count": 184,
   "metadata": {},
   "outputs": [
    {
     "name": "stdout",
     "output_type": "stream",
     "text": [
      "<class 'numpy.ndarray'>\n",
      "2.0\n"
     ]
    }
   ],
   "source": [
    "test = np.array([1, 2, 3, 4, 5])\n",
    "print(type(test))\n",
    "print(np.quantile(test, 0.25))"
   ]
  },
  {
   "cell_type": "code",
   "execution_count": 175,
   "metadata": {},
   "outputs": [
    {
     "data": {
      "text/html": [
       "<div>\n",
       "<style scoped>\n",
       "    .dataframe tbody tr th:only-of-type {\n",
       "        vertical-align: middle;\n",
       "    }\n",
       "\n",
       "    .dataframe tbody tr th {\n",
       "        vertical-align: top;\n",
       "    }\n",
       "\n",
       "    .dataframe thead th {\n",
       "        text-align: right;\n",
       "    }\n",
       "</style>\n",
       "<table border=\"1\" class=\"dataframe\">\n",
       "  <thead>\n",
       "    <tr style=\"text-align: right;\">\n",
       "      <th></th>\n",
       "      <th>1.0</th>\n",
       "      <th>2.0</th>\n",
       "      <th>std</th>\n",
       "    </tr>\n",
       "  </thead>\n",
       "  <tbody>\n",
       "    <tr>\n",
       "      <th>number of patients</th>\n",
       "      <td>5639</td>\n",
       "      <td>5639</td>\n",
       "      <td>NaN</td>\n",
       "    </tr>\n",
       "    <tr>\n",
       "      <th>age_mean</th>\n",
       "      <td>59.17</td>\n",
       "      <td>59.12</td>\n",
       "      <td>NaN</td>\n",
       "    </tr>\n",
       "    <tr>\n",
       "      <th>age_std</th>\n",
       "      <td>13.83</td>\n",
       "      <td>14.12</td>\n",
       "      <td>NaN</td>\n",
       "    </tr>\n",
       "    <tr>\n",
       "      <th>age_median</th>\n",
       "      <td>60</td>\n",
       "      <td>60</td>\n",
       "      <td>NaN</td>\n",
       "    </tr>\n",
       "    <tr>\n",
       "      <th>age_Q1_Q3</th>\n",
       "      <td>49.0; 69.0</td>\n",
       "      <td>49.0; 69.0</td>\n",
       "      <td>NaN</td>\n",
       "    </tr>\n",
       "    <tr>\n",
       "      <th>age_min_max</th>\n",
       "      <td>18; 90</td>\n",
       "      <td>18; 90</td>\n",
       "      <td>NaN</td>\n",
       "    </tr>\n",
       "    <tr>\n",
       "      <th>age_mean</th>\n",
       "      <td>59.17</td>\n",
       "      <td>59.12</td>\n",
       "      <td>0.004</td>\n",
       "    </tr>\n",
       "    <tr>\n",
       "      <th>age_std</th>\n",
       "      <td>13.83</td>\n",
       "      <td>14.12</td>\n",
       "      <td>NaN</td>\n",
       "    </tr>\n",
       "    <tr>\n",
       "      <th>age_median</th>\n",
       "      <td>60</td>\n",
       "      <td>60</td>\n",
       "      <td>NaN</td>\n",
       "    </tr>\n",
       "    <tr>\n",
       "      <th>age_Q1_Q3</th>\n",
       "      <td>49.0; 69.0</td>\n",
       "      <td>49.0; 69.0</td>\n",
       "      <td>NaN</td>\n",
       "    </tr>\n",
       "    <tr>\n",
       "      <th>age_min_max</th>\n",
       "      <td>18; 90</td>\n",
       "      <td>18; 90</td>\n",
       "      <td>NaN</td>\n",
       "    </tr>\n",
       "    <tr>\n",
       "      <th>female</th>\n",
       "      <td>1857</td>\n",
       "      <td>1862</td>\n",
       "      <td>NaN</td>\n",
       "    </tr>\n",
       "    <tr>\n",
       "      <th>male</th>\n",
       "      <td>3782</td>\n",
       "      <td>3777</td>\n",
       "      <td>NaN</td>\n",
       "    </tr>\n",
       "  </tbody>\n",
       "</table>\n",
       "</div>"
      ],
      "text/plain": [
       "                           1.0         2.0    std\n",
       "number of patients        5639        5639    NaN\n",
       "age_mean                 59.17       59.12    NaN\n",
       "age_std                  13.83       14.12    NaN\n",
       "age_median                  60          60    NaN\n",
       "age_Q1_Q3           49.0; 69.0  49.0; 69.0    NaN\n",
       "age_min_max             18; 90      18; 90    NaN\n",
       "age_mean                 59.17       59.12  0.004\n",
       "age_std                  13.83       14.12    NaN\n",
       "age_median                  60          60    NaN\n",
       "age_Q1_Q3           49.0; 69.0  49.0; 69.0    NaN\n",
       "age_min_max             18; 90      18; 90    NaN\n",
       "female                    1857        1862    NaN\n",
       "male                      3782        3777    NaN"
      ]
     },
     "execution_count": 175,
     "metadata": {},
     "output_type": "execute_result"
    }
   ],
   "source": [
    "all_tab = pd.concat([cohort_tab, age_df, age_all, sex_tab])\n",
    "all_tab"
   ]
  },
  {
   "cell_type": "code",
   "execution_count": null,
   "metadata": {},
   "outputs": [],
   "source": [
    "def numeric_tab(var, name ):\n",
    "    df.age = df.age.astype(int)\n",
    "    _mea = df.groupby(['cohort']).age.mean().round(2).to_frame().rename(columns={'age':'age_mean'}).transpose()\n",
    "    _s = df.groupby(['cohort']).age.std().round(2).to_frame().rename(columns={'age':'age_std'}).transpose()\n",
    "    _med = df.groupby(['cohort']).age.median().round(2).to_frame().rename(columns={'age':'age_median'}).transpose()\n",
    "    _q25 = df.groupby(['cohort']).age.quantile(0.25).round(2).to_frame()\n",
    "    _q75 = df.groupby(['cohort']).age.quantile(0.75).round(2).to_frame()\n",
    "    _min = df.groupby(['cohort']).age.min().round(2).to_frame()\n",
    "    _max = df.groupby(['cohort']).age.max().round(2).to_frame()\n",
    "\n",
    "    _q = _q25.rename(columns={'age':'age_Q1'}).join(_q75.rename(columns={'age': 'age_Q3'}))\n",
    "    _q['age_Q1_Q3'] = _q['age_Q1'].map(str) + '; ' + _q['age_Q3'].map(str)\n",
    "    _q = _q.drop(['age_Q1', 'age_Q3'], axis=1).transpose()\n",
    "\n",
    "    _m = _min.rename(columns={'age':'age_min'}).join(_max.rename(columns={'age': 'age_max'}))\n",
    "    _m['age_min_max'] = _m['age_min'].map(str) + '; ' + _m['age_max'].map(str)\n",
    "    _m = _m.drop(['age_min', 'age_max'], axis=1).transpose()\n",
    "\n",
    "    _std_data = {'std': np.absolute(_mea.iloc[0,0] - _mea.iloc[0,1])/np.sqrt((np.square(_s.iloc[0,0]) + np.square(_s.iloc[0,1]))/2)}\n",
    "    _std = pd.DataFrame(_std_data, index=['age_mean'])\n",
    "\n",
    "    _df = pd.concat([_mea, _s, _med, _q, _m])\n",
    "    return _df.join(_std.round(3)).fillna('NA')"
   ]
  }
 ],
 "metadata": {
  "kernelspec": {
   "display_name": "Python 3",
   "language": "python",
   "name": "python3"
  },
  "language_info": {
   "codemirror_mode": {
    "name": "ipython",
    "version": 3
   },
   "file_extension": ".py",
   "mimetype": "text/x-python",
   "name": "python",
   "nbconvert_exporter": "python",
   "pygments_lexer": "ipython3",
   "version": "3.7.3"
  }
 },
 "nbformat": 4,
 "nbformat_minor": 2
}
