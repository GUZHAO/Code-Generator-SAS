{
 "cells": [
  {
   "cell_type": "code",
   "execution_count": 1,
   "metadata": {},
   "outputs": [],
   "source": [
    "# import some libs\n",
    "import pandas as pd"
   ]
  },
  {
   "cell_type": "code",
   "execution_count": 245,
   "metadata": {
    "scrolled": true
   },
   "outputs": [],
   "source": [
    "# import main code lookup\n",
    "mainsas = pd.read_excel('7001479 Japan Local Protocol covariates code list formatted for SAS v1.0.xlsx', index_col=None, sheet_name='Covariates for PS-match')"
   ]
  },
  {
   "cell_type": "code",
   "execution_count": 247,
   "metadata": {
    "scrolled": true
   },
   "outputs": [],
   "source": [
    "# data cleaning\n",
    "mainsas['cov'] = mainsas['Covariate'].str.rstrip()"
   ]
  },
  {
   "cell_type": "code",
   "execution_count": 248,
   "metadata": {},
   "outputs": [],
   "source": [
    "# import code requirement\n",
    "goalsas = pd.read_excel('NBI covariates name .xlsx', index_col=None, sheet_name='Diabetes complications')"
   ]
  },
  {
   "cell_type": "code",
   "execution_count": 249,
   "metadata": {},
   "outputs": [],
   "source": [
    "# data cleaning\n",
    "goalsas['cov'] = goalsas['Covariates in table shells '].str.rstrip()"
   ]
  },
  {
   "cell_type": "code",
   "execution_count": 250,
   "metadata": {},
   "outputs": [],
   "source": [
    "# merge to get lookup info\n",
    "mergesas = mainsas.merge(goalsas, how='inner', left_on='cov', right_on='cov')"
   ]
  },
  {
   "cell_type": "code",
   "execution_count": 251,
   "metadata": {},
   "outputs": [
    {
     "name": "stdout",
     "output_type": "stream",
     "text": [
      "*** Diabetic retinopathy ;\n",
      "if Diseasecode in ( 8844537, 8830045, 8844536, 8830033, 2504010, 2504005, 2504013, 8843982, 8843990, 8844089\n",
      " ) then Diabetic_retinopathy_dx_flag = 1;\n",
      "else Diabetic_retinopathy_dx_flag = 0;\n",
      "\n",
      "*** Diabetes with other ophthalmic manifestations ;\n",
      "if Diseasecode in ( 8845049, 8838065, 8845078, 8841692, 8841682, \n",
      "2504006 ) then Diabetes_WOOM_dx_flag = 1;\n",
      "else Diabetes_WOOM_dx_flag = 0;\n",
      "\n",
      "*** Diabetic foot ;\n",
      "if Diseasecode in ( 8845068, 8845097, 8848634,8848633 ) then Diabetic_foot_dx_flag = 1;\n",
      "else Diabetic_foot_dx_flag = 0;\n",
      "\n",
      "*** Gangrene ;\n",
      "if Diseasecode in ( 8843105, 8843106, 8848632,  2506006 ) then Gangrene_dx_flag = 1;\n",
      "else Gangrene_dx_flag = 0;\n",
      "\n",
      "*** Diabetes with unspecified complication ;\n",
      "if Diseasecode in ( 2507028 ) then Diabetes_WUC_dx_flag = 1;\n",
      "else Diabetes_WUC_dx_flag = 0;\n",
      "\n"
     ]
    }
   ],
   "source": [
    "# generate sas diseasecode\n",
    "dc = mergesas[mergesas['Variable'].str.contains(\"Diseasecode\")]\n",
    "for i in dc.itertuples():\n",
    "    print('***', i[7],';')\n",
    "    print('if', i[3], 'in', '(', i[4], ')', 'then', i[9]+'_dx_flag', '= 1;')\n",
    "    print('else', i[9]+'_dx_flag', '= 0;')\n",
    "    print()"
   ]
  },
  {
   "cell_type": "code",
   "execution_count": 252,
   "metadata": {},
   "outputs": [
    {
     "name": "stdout",
     "output_type": "stream",
     "text": [
      "*** Retinal laser coagulation therapy ;\n",
      "if Receiptcode in ( 150244110, 150244210 ) then Retinal_LT_therapy_rc_flag = 1;\n",
      "else Retinal_LT_therapy_rc_flag = 0;\n",
      "\n",
      "*** Lower extremity amputation ;\n",
      "if Receiptcode in ( 150051610, 150051710, 150051810 ) then Lower_extremity_amputation_rc_flag = 1;\n",
      "else Lower_extremity_amputation_rc_flag = 0;\n",
      "\n"
     ]
    }
   ],
   "source": [
    "# generate sas receiptcode\n",
    "rc = mergesas[mergesas['Variable'].str.contains(\"Receiptcode\")]\n",
    "for i in rc.itertuples():\n",
    "    print('***', i[7],';')\n",
    "    print('if', i[3], 'in', '(', i[4], ')', 'then', i[9]+'_rc_flag', '= 1;')\n",
    "    print('else', i[9]+'_rc_flag', '= 0;')\n",
    "    print()"
   ]
  },
  {
   "cell_type": "code",
   "execution_count": 253,
   "metadata": {},
   "outputs": [
    {
     "name": "stderr",
     "output_type": "stream",
     "text": [
      "C:\\Users\\guzhao\\AppData\\Local\\Continuum\\anaconda3\\lib\\site-packages\\ipykernel_launcher.py:11: SettingWithCopyWarning: \n",
      "A value is trying to be set on a copy of a slice from a DataFrame.\n",
      "Try using .loc[row_indexer,col_indexer] = value instead\n",
      "\n",
      "See the caveats in the documentation: http://pandas.pydata.org/pandas-docs/stable/indexing.html#indexing-view-versus-copy\n",
      "  # This is added back by InteractiveShellApp.init_path()\n"
     ]
    }
   ],
   "source": [
    "# generate sas icd10 code\n",
    "icd = mergesas[mergesas['Variable'].str.contains('ICD10code')]\n",
    "\n",
    "def split(x, length):    \n",
    "    splitted_string = x.split(',')\n",
    "    result = [substr.strip() for substr in splitted_string if len(substr.strip())==length]\n",
    "    result = ', '.join(result)\n",
    "    return result\n",
    "\n",
    "for length in [5, 6, 7]:\n",
    "    icd[length] = icd['Code containing'].apply(lambda x: split(x, length))"
   ]
  },
  {
   "cell_type": "code",
   "execution_count": 254,
   "metadata": {},
   "outputs": [
    {
     "name": "stdout",
     "output_type": "stream",
     "text": [
      "*** Retinal detachment, vitreous hemorrhage, vitrectomy ;\n",
      "if icd3 in ( \"H33\" ) or icd4 in ( \"H431\", \"H450\" ) then RD_VH_vitrectomy_flag = 1;\n",
      "else RD_VH_vitrectomy_rc_flag = 0;\n",
      "\n",
      "*** Diabetic neuropathy ;\n",
      "if icd4 in ( \"E104\", \"E114\", \"E134\" ) then Diabetic_neuropathy_flag = 1;\n",
      "else Diabetic_neuropathy_rc_flag = 0;\n",
      "\n",
      "*** Diabetic nephropathy ;\n",
      "if icd4 in ( \"E102\", \"E112\", \"E132\" ) then Diabetic_nephropathy_flag = 1;\n",
      "else Diabetic_nephropathy_rc_flag = 0;\n",
      "\n",
      "*** Hypoglycemia ;\n",
      "if icd4 in ( \"E160\", \"E161\", \"E162\", \"T383\" ) then Hypoglycemia_flag = 1;\n",
      "else Hypoglycemia_rc_flag = 0;\n",
      "\n",
      "*** Hypoglycemia ;\n",
      "if icd4 in ( \"E106\", \"E116\" ) then Hypoglycemia_flag = 1;\n",
      "else Hypoglycemia_rc_flag = 0;\n",
      "\n",
      "*** Hyperglycemia ;\n",
      "if icd4 in ( \"R739\" ) then Hyperglycemia_flag = 1;\n",
      "else Hyperglycemia_rc_flag = 0;\n",
      "\n",
      "*** Disorders of fluid electrolyte and acid-base balance ;\n",
      "if icd3 in ( \"E86\", \"E87\" ) then Disorders_FE_ADD_flag = 1;\n",
      "else Disorders_FE_ADD_rc_flag = 0;\n",
      "\n",
      "*** Diabetic ketoacidosis ;\n",
      "if icd4 in ( \"E101\", \"E131\" ) then Diabetic_ketoacidosis_flag = 1;\n",
      "else Diabetic_ketoacidosis_rc_flag = 0;\n",
      "\n",
      "*** Hyperosmolar hyperglycemic nonketotic syndrome (HONK) ;\n",
      "if icd4 in ( \"E110\", \"E130\" ) then HONK_flag = 1;\n",
      "else HONK_rc_flag = 0;\n",
      "\n",
      "*** Diabetes with peripheral circulatory disorders ;\n",
      "if icd4 in ( \"E105\", \"E115\", \"E135\" ) then Diabetes_PCD_flag = 1;\n",
      "else Diabetes_PCD_rc_flag = 0;\n",
      "\n",
      "*** Diabetic foot ;\n",
      "if icd3 in ( \"L97\" ) then Diabetic_foot_flag = 1;\n",
      "else Diabetic_foot_rc_flag = 0;\n",
      "\n",
      "*** Gangrene ;\n",
      "if icd5 in ( \"E1052\", \"E1152\", \"E1352\" ) then Gangrene_flag = 1;\n",
      "else Gangrene_rc_flag = 0;\n",
      "\n",
      "*** Lower extremity amputation ;\n",
      "if icd4 in ( \"Z894\", \"Z895\" ) then Lower_extremity_amputation_flag = 1;\n",
      "else Lower_extremity_amputation_rc_flag = 0;\n",
      "\n",
      "*** Osteomyelitis ;\n",
      "if icd3 in ( \"M86\" ) then Osteomyelitis_flag = 1;\n",
      "else Osteomyelitis_rc_flag = 0;\n",
      "\n",
      "*** Skin infections ;\n",
      "if icd3 in ( \"L01\", \"L02\", \"L03\", \"L04\", \"L05\", \"L08\", \"L88\" ) or icd4 in ( \"E832\", \"K122\", \"L928\", \"B781\" ) then Skin_infections_flag = 1;\n",
      "else Skin_infections_rc_flag = 0;\n",
      "\n",
      "*** Erectile dysfunction ;\n",
      "if icd4 in ( \"F522\" ) then Erectile_dysfunction_flag = 1;\n",
      "else Erectile_dysfunction_rc_flag = 0;\n",
      "\n",
      "*** Diabetes mellitus without mention of complications ;\n",
      "if icd4 in ( \"E109\", \"E119\", \"E139\" ) then Diabetes _WO_MC_flag = 1;\n",
      "else Diabetes _WO_MC_rc_flag = 0;\n",
      "\n"
     ]
    }
   ],
   "source": [
    "for i in icd.itertuples():\n",
    "    print('***', i[7],';')\n",
    "    if i[10] != '' and i[11] != '':\n",
    "        print('if icd3 in', '(', i[10], ')', 'or', 'icd4 in', '(', i[11], ')', 'then', i[9]+'_flag', '= 1;')\n",
    "        print('else', i[9]+'_rc_flag', '= 0;')\n",
    "    elif i[10] == '' and i[11] != '' and i[12] =='':\n",
    "        print('if icd4 in', '(', i[11], ')', 'then', i[9]+'_flag', '= 1;')\n",
    "        print('else', i[9]+'_rc_flag', '= 0;')\n",
    "    elif i[10] != '' and i[11] == '' and i[12] =='':\n",
    "        print('if icd3 in', '(', i[10], ')', 'then', i[9]+'_flag', '= 1;')\n",
    "        print('else', i[9]+'_rc_flag', '= 0;')\n",
    "    elif i[10] == '' and i[11] == '' and i[12] !='':\n",
    "        print('if icd5 in', '(', i[12], ')', 'then', i[9]+'_flag', '= 1;')\n",
    "        print('else', i[9]+'_rc_flag', '= 0;')\n",
    "    print()"
   ]
  },
  {
   "cell_type": "code",
   "execution_count": null,
   "metadata": {},
   "outputs": [],
   "source": []
  }
 ],
 "metadata": {
  "kernelspec": {
   "display_name": "Python 3",
   "language": "python",
   "name": "python3"
  },
  "language_info": {
   "codemirror_mode": {
    "name": "ipython",
    "version": 3
   },
   "file_extension": ".py",
   "mimetype": "text/x-python",
   "name": "python",
   "nbconvert_exporter": "python",
   "pygments_lexer": "ipython3",
   "version": "3.7.3"
  }
 },
 "nbformat": 4,
 "nbformat_minor": 2
}
